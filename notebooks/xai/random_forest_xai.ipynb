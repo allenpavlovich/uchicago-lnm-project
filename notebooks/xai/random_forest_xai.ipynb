{
 "cells": [
  {
   "cell_type": "markdown",
   "metadata": {},
   "source": [
    "# Introduction\n",
    "\n",
    "This notebook leverages pre-defined functions from `xai/*RF.py`"
   ]
  },
  {
   "cell_type": "markdown",
   "metadata": {},
   "source": [
    "### Setup"
   ]
  },
  {
   "cell_type": "code",
   "execution_count": 1,
   "metadata": {},
   "outputs": [],
   "source": [
    "import sys\n",
    "sys.path.append('../../src/xai')"
   ]
  },
  {
   "cell_type": "code",
   "execution_count": 3,
   "metadata": {},
   "outputs": [
    {
     "name": "stderr",
     "output_type": "stream",
     "text": [
      "Using `tqdm.autonotebook.tqdm` in notebook mode. Use `tqdm.tqdm` instead to force console mode (e.g. in jupyter console)\n"
     ]
    }
   ],
   "source": [
    "from shap_random_forest import run_shap_explanation\n",
    "from lime_random_forest import run_lime_explanation\n",
    "from coefficients_random_forest import run_coefficients_analysis"
   ]
  },
  {
   "cell_type": "markdown",
   "metadata": {},
   "source": [
    "### Define Paths"
   ]
  },
  {
   "cell_type": "code",
   "execution_count": 4,
   "metadata": {},
   "outputs": [],
   "source": [
    "data_path = '../../data/processed/cleaned_data.csv'\n",
    "model_path = '../../models/random_forest_model.pkl'\n",
    "vectorizer_path = '../../models/Bow_model.pkl'"
   ]
  },
  {
   "cell_type": "markdown",
   "metadata": {},
   "source": [
    "### 1. SHAP Explanation"
   ]
  },
  {
   "cell_type": "code",
   "execution_count": 5,
   "metadata": {},
   "outputs": [
    {
     "name": "stdout",
     "output_type": "stream",
     "text": [
      "Running SHAP explanation...\n"
     ]
    },
    {
     "ename": "InvalidModelError",
     "evalue": "An unknown model type was passed: <class 'sklearn.ensemble._forest.RandomForestClassifier'>",
     "output_type": "error",
     "traceback": [
      "\u001b[1;31m---------------------------------------------------------------------------\u001b[0m",
      "\u001b[1;31mInvalidModelError\u001b[0m                         Traceback (most recent call last)",
      "Cell \u001b[1;32mIn[5], line 2\u001b[0m\n\u001b[0;32m      1\u001b[0m \u001b[38;5;28mprint\u001b[39m(\u001b[38;5;124m\"\u001b[39m\u001b[38;5;124mRunning SHAP explanation...\u001b[39m\u001b[38;5;124m\"\u001b[39m)\n\u001b[1;32m----> 2\u001b[0m \u001b[43mrun_shap_explanation\u001b[49m\u001b[43m(\u001b[49m\u001b[43mdata_path\u001b[49m\u001b[43m,\u001b[49m\u001b[43m \u001b[49m\u001b[43mmodel_path\u001b[49m\u001b[43m,\u001b[49m\u001b[43m \u001b[49m\u001b[43mvectorizer_path\u001b[49m\u001b[43m)\u001b[49m\n",
      "File \u001b[1;32mc:\\Users\\efelix\\Repos\\uchicago-lnm-project\\notebooks\\xai\\../../src/xai\\shap_random_forest.py:36\u001b[0m, in \u001b[0;36mrun_shap_explanation\u001b[1;34m(data_path, model_path, vectorizer_path)\u001b[0m\n\u001b[0;32m     34\u001b[0m model, vectorizer \u001b[38;5;241m=\u001b[39m load_model_and_vectorizer(model_path, vectorizer_path)\n\u001b[0;32m     35\u001b[0m X \u001b[38;5;241m=\u001b[39m vectorizer\u001b[38;5;241m.\u001b[39mtransform(df[\u001b[38;5;124m'\u001b[39m\u001b[38;5;124mclean_text\u001b[39m\u001b[38;5;124m'\u001b[39m])\n\u001b[1;32m---> 36\u001b[0m \u001b[43mexplain_with_shap\u001b[49m\u001b[43m(\u001b[49m\u001b[43mmodel\u001b[49m\u001b[43m,\u001b[49m\u001b[43m \u001b[49m\u001b[43mX\u001b[49m\u001b[43m,\u001b[49m\u001b[43m \u001b[49m\u001b[43mvectorizer\u001b[49m\u001b[43m)\u001b[49m\n",
      "File \u001b[1;32mc:\\Users\\efelix\\Repos\\uchicago-lnm-project\\notebooks\\xai\\../../src/xai\\shap_random_forest.py:20\u001b[0m, in \u001b[0;36mexplain_with_shap\u001b[1;34m(model, X, vectorizer)\u001b[0m\n\u001b[0;32m     18\u001b[0m \u001b[38;5;28;01mdef\u001b[39;00m \u001b[38;5;21mexplain_with_shap\u001b[39m(model, X, vectorizer):\n\u001b[0;32m     19\u001b[0m \u001b[38;5;250m    \u001b[39m\u001b[38;5;124;03m\"\"\"Apply SHAP to explain the model predictions.\"\"\"\u001b[39;00m\n\u001b[1;32m---> 20\u001b[0m     explainer \u001b[38;5;241m=\u001b[39m \u001b[43mshap\u001b[49m\u001b[38;5;241;43m.\u001b[39;49m\u001b[43mLinearExplainer\u001b[49m\u001b[43m(\u001b[49m\u001b[43mmodel\u001b[49m\u001b[43m,\u001b[49m\u001b[43m \u001b[49m\u001b[43mX\u001b[49m\u001b[43m)\u001b[49m\n\u001b[0;32m     21\u001b[0m     shap_values \u001b[38;5;241m=\u001b[39m explainer\u001b[38;5;241m.\u001b[39mshap_values(X)\n\u001b[0;32m     23\u001b[0m     \u001b[38;5;66;03m# SHAP summary plot\u001b[39;00m\n",
      "File \u001b[1;32mc:\\Users\\efelix\\AppData\\Local\\anaconda3\\envs\\environment\\lib\\site-packages\\shap\\explainers\\_linear.py:93\u001b[0m, in \u001b[0;36mLinear.__init__\u001b[1;34m(self, model, masker, link, nsamples, feature_perturbation, **kwargs)\u001b[0m\n\u001b[0;32m     89\u001b[0m \u001b[38;5;28mself\u001b[39m\u001b[38;5;241m.\u001b[39mnsamples \u001b[38;5;241m=\u001b[39m nsamples\n\u001b[0;32m     92\u001b[0m \u001b[38;5;66;03m# extract what we need from the given model object\u001b[39;00m\n\u001b[1;32m---> 93\u001b[0m \u001b[38;5;28mself\u001b[39m\u001b[38;5;241m.\u001b[39mcoef, \u001b[38;5;28mself\u001b[39m\u001b[38;5;241m.\u001b[39mintercept \u001b[38;5;241m=\u001b[39m \u001b[43mLinear\u001b[49m\u001b[38;5;241;43m.\u001b[39;49m\u001b[43m_parse_model\u001b[49m\u001b[43m(\u001b[49m\u001b[43mmodel\u001b[49m\u001b[43m)\u001b[49m\n\u001b[0;32m     95\u001b[0m \u001b[38;5;66;03m# extract the data\u001b[39;00m\n\u001b[0;32m     96\u001b[0m \u001b[38;5;28;01mif\u001b[39;00m \u001b[38;5;28missubclass\u001b[39m(\u001b[38;5;28mtype\u001b[39m(\u001b[38;5;28mself\u001b[39m\u001b[38;5;241m.\u001b[39mmasker), (maskers\u001b[38;5;241m.\u001b[39mIndependent, maskers\u001b[38;5;241m.\u001b[39mPartition)):\n",
      "File \u001b[1;32mc:\\Users\\efelix\\AppData\\Local\\anaconda3\\envs\\environment\\lib\\site-packages\\shap\\explainers\\_linear.py:270\u001b[0m, in \u001b[0;36mLinear._parse_model\u001b[1;34m(model)\u001b[0m\n\u001b[0;32m    268\u001b[0m         intercept \u001b[38;5;241m=\u001b[39m model\u001b[38;5;241m.\u001b[39mintercept_\n\u001b[0;32m    269\u001b[0m \u001b[38;5;28;01melse\u001b[39;00m:\n\u001b[1;32m--> 270\u001b[0m     \u001b[38;5;28;01mraise\u001b[39;00m InvalidModelError(\u001b[38;5;124m\"\u001b[39m\u001b[38;5;124mAn unknown model type was passed: \u001b[39m\u001b[38;5;124m\"\u001b[39m \u001b[38;5;241m+\u001b[39m \u001b[38;5;28mstr\u001b[39m(\u001b[38;5;28mtype\u001b[39m(model)))\n\u001b[0;32m    272\u001b[0m \u001b[38;5;28;01mreturn\u001b[39;00m coef,intercept\n",
      "\u001b[1;31mInvalidModelError\u001b[0m: An unknown model type was passed: <class 'sklearn.ensemble._forest.RandomForestClassifier'>"
     ]
    }
   ],
   "source": [
    "print(\"Running SHAP explanation...\")\n",
    "run_shap_explanation(data_path, model_path, vectorizer_path)"
   ]
  },
  {
   "cell_type": "markdown",
   "metadata": {},
   "source": [
    "### 2. LIME Explanation"
   ]
  },
  {
   "cell_type": "code",
   "execution_count": null,
   "metadata": {},
   "outputs": [],
   "source": [
    "print(\"Running LIME explanation...\")\n",
    "sample_text = \"I love this product, it works great and I would recommend it to everyone.\"\n",
    "run_lime_explanation(data_path, model_path, vectorizer_path, sample_text)"
   ]
  },
  {
   "cell_type": "code",
   "execution_count": null,
   "metadata": {},
   "outputs": [],
   "source": [
    "sample_text = \"Professor Utku made us work so hard on the final project, I wish we had more time.\"\n",
    "run_lime_explanation(data_path, model_path, vectorizer_path, sample_text)"
   ]
  },
  {
   "cell_type": "markdown",
   "metadata": {},
   "source": [
    "### 3. Coefficients Analysis"
   ]
  },
  {
   "cell_type": "code",
   "execution_count": null,
   "metadata": {},
   "outputs": [],
   "source": [
    "print(\"Running Coefficients analysis...\")\n",
    "run_coefficients_analysis(model_path, vectorizer_path)"
   ]
  }
 ],
 "metadata": {
  "kernelspec": {
   "display_name": "environment",
   "language": "python",
   "name": "python3"
  },
  "language_info": {
   "codemirror_mode": {
    "name": "ipython",
    "version": 3
   },
   "file_extension": ".py",
   "mimetype": "text/x-python",
   "name": "python",
   "nbconvert_exporter": "python",
   "pygments_lexer": "ipython3",
   "version": "3.10.13"
  }
 },
 "nbformat": 4,
 "nbformat_minor": 2
}
