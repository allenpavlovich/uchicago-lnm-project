{
 "cells": [
  {
   "cell_type": "markdown",
   "metadata": {},
   "source": [
    "# Introduction\n",
    "\n",
    "This notebook leverages pre-defined functions from the `train_random_forest.py` script to train an random forest model on the Sentiment140 dataset using Bag of Words features."
   ]
  },
  {
   "cell_type": "markdown",
   "metadata": {},
   "source": [
    "### Setup    "
   ]
  },
  {
   "cell_type": "code",
   "execution_count": 1,
   "metadata": {},
   "outputs": [],
   "source": [
    "import sys\n",
    "import os\n",
    "sys.path.append('../../src/models/')  # Add the path to the script"
   ]
  },
  {
   "cell_type": "code",
   "execution_count": 2,
   "metadata": {},
   "outputs": [],
   "source": [
    "from train_random_forest import (\n",
    "    load_bow_features, prepare_features_and_labels, \n",
    "    train_random_forest, evaluate_model, save_model\n",
    ")\n",
    "\n",
    "from sklearn.model_selection import train_test_split"
   ]
  },
  {
   "cell_type": "markdown",
   "metadata": {},
   "source": [
    "### Ensure the directory for figures exists"
   ]
  },
  {
   "cell_type": "code",
   "execution_count": 3,
   "metadata": {},
   "outputs": [],
   "source": [
    "# Ensure the directory exists\n",
    "output_dir = os.path.join('..', '..', 'reports', 'figures', 'models')\n",
    "os.makedirs(output_dir, exist_ok=True)"
   ]
  },
  {
   "cell_type": "markdown",
   "metadata": {},
   "source": [
    "### Load the cleaned data"
   ]
  },
  {
   "cell_type": "code",
   "execution_count": 4,
   "metadata": {},
   "outputs": [],
   "source": [
    "import pandas as pd\n",
    "\n",
    "def load_data(file_path):\n",
    "    \"\"\"Load data from a CSV file.\"\"\"\n",
    "    return pd.read_csv(file_path)\n",
    "\n",
    "# Use the load_data function to load your data\n",
    "df = load_data('../../data/processed/cleaned_data.csv')\n",
    "df = df.dropna(subset=['clean_text'])"
   ]
  },
  {
   "cell_type": "markdown",
   "metadata": {},
   "source": [
    "### Feature Engineering: Load BoW Features"
   ]
  },
  {
   "cell_type": "code",
   "execution_count": 5,
   "metadata": {},
   "outputs": [],
   "source": [
    "bow_df, vectorizer = load_bow_features('../../src/features/Bow.pkl', '../../models/Bow_model.pkl')"
   ]
  },
  {
   "cell_type": "markdown",
   "metadata": {},
   "source": [
    "### Prepare Features and Labels"
   ]
  },
  {
   "cell_type": "code",
   "execution_count": 6,
   "metadata": {},
   "outputs": [],
   "source": [
    "# Prepare the features (X) and labels (y) for training\n",
    "X, y = prepare_features_and_labels(bow_df)"
   ]
  },
  {
   "cell_type": "markdown",
   "metadata": {},
   "source": [
    "### Train the Random Forest Model"
   ]
  },
  {
   "cell_type": "code",
   "execution_count": 7,
   "metadata": {},
   "outputs": [],
   "source": [
    "# Train the Random Forest model using the prepared features and labels\n",
    "model = train_random_forest(X, y, n_estimators=75, max_depth=30, max_features='sqrt', max_samples=0.9)"
   ]
  },
  {
   "cell_type": "markdown",
   "metadata": {},
   "source": [
    "### Evaluate the Model"
   ]
  },
  {
   "cell_type": "code",
   "execution_count": 8,
   "metadata": {},
   "outputs": [
    {
     "name": "stdout",
     "output_type": "stream",
     "text": [
      "Model Accuracy on Test Dataset: 0.71\n",
      "\n",
      "Classification Report:\n",
      "               precision    recall  f1-score   support\n",
      "\n",
      "           0       0.79      0.57      0.66    158761\n",
      "           1       0.67      0.85      0.75    159633\n",
      "\n",
      "    accuracy                           0.71    318394\n",
      "   macro avg       0.73      0.71      0.71    318394\n",
      "weighted avg       0.73      0.71      0.71    318394\n",
      "\n"
     ]
    }
   ],
   "source": [
    "X_train, X_test, y_train, y_test = train_test_split(X, y, test_size=0.2, random_state=42)\n",
    "accuracy, report, conf_matrix = evaluate_model(model, X_test, y_test)\n",
    "print(f\"Model Accuracy on Test Dataset: {round(accuracy, 2)}\")\n",
    "print(\"\\nClassification Report:\\n\", report)"
   ]
  },
  {
   "cell_type": "markdown",
   "metadata": {},
   "source": [
    "### Visualization: Confusion Matrix"
   ]
  },
  {
   "cell_type": "code",
   "execution_count": 12,
   "metadata": {},
   "outputs": [
    {
     "data": {
      "image/png": "[encoded data removed]",
      "text/plain": [
       "<Figure size 1000x700 with 2 Axes>"
      ]
     },
     "metadata": {},
     "output_type": "display_data"
    },
    {
     "name": "stdout",
     "output_type": "stream",
     "text": [
      "Saving the plot to ..\\..\\reports\\figures\\models\\rand_frst_conf_mtx.png\n"
     ]
    }
   ],
   "source": [
    "import seaborn as sns\n",
    "import matplotlib.pyplot as plt\n",
    "\n",
    "plt.figure(figsize=(10, 7))\n",
    "sns.heatmap(conf_matrix, annot=True, fmt='d', cmap='Blues')\n",
    "plt.title('Random Forest Confusion Matrix')\n",
    "plt.ylabel('Actual')\n",
    "plt.xlabel('Predicted')\n",
    "\n",
    "# Save confusion matrix as image\n",
    "save_path = os.path.join(output_dir, 'rand_frst_conf_mtx.png')\n",
    "plt.savefig(save_path, format='png', bbox_inches='tight')\n",
    "plt.show()\n",
    "plt.close()\n",
    "print(f\"Saving the plot to {save_path}\")"
   ]
  },
  {
   "cell_type": "markdown",
   "metadata": {},
   "source": [
    "### Save the Model"
   ]
  },
  {
   "cell_type": "code",
   "execution_count": 11,
   "metadata": {},
   "outputs": [
    {
     "name": "stdout",
     "output_type": "stream",
     "text": [
      "File ../../models/random_forest_model.pkl already exists. The model will not be overwritten.\n"
     ]
    }
   ],
   "source": [
    "model_path = '../../models/random_forest_model.pkl'\n",
    "\n",
    "# Check if the file already exists\n",
    "if os.path.exists(model_path):\n",
    "    print(f\"File {model_path} already exists. The model will not be overwritten.\")\n",
    "else:\n",
    "    save_model(model, model_path)\n",
    "    print(f\"Model saved to {model_path}\")\n",
    "\n",
    "# Code to overwrite the model if needed (Uncomment the following lines to overwrite)\n",
    "# save_model(model, model_path)\n",
    "# print(f\"Model overwritten at {model_path}\")"
   ]
  }
 ],
 "metadata": {
  "kernelspec": {
   "display_name": "uchicago_lnm_project",
   "language": "python",
   "name": "python3"
  },
  "language_info": {
   "codemirror_mode": {
    "name": "ipython",
    "version": 3
   },
   "file_extension": ".py",
   "mimetype": "text/x-python",
   "name": "python",
   "nbconvert_exporter": "python",
   "pygments_lexer": "ipython3",
   "version": "3.10.13"
  }
 },
 "nbformat": 4,
 "nbformat_minor": 2
}
